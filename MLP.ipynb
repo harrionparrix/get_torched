{
 "cells": [
  {
   "cell_type": "code",
   "execution_count": 1,
   "metadata": {},
   "outputs": [],
   "source": [
    "import matplotlib.pyplot as plt\n",
    "import numpy as np"
   ]
  },
  {
   "cell_type": "markdown",
   "metadata": {},
   "source": [
    "# Single Layer Perceptron"
   ]
  },
  {
   "cell_type": "code",
   "execution_count": 2,
   "metadata": {},
   "outputs": [],
   "source": [
    "class SingleLayerPerceptron:\n",
    "    def __init__(self, input_size):\n",
    "        self.input_size = input_size\n",
    "        self.weights = np.random.rand(input_size)\n",
    "        self.bias = np.random.rand()\n",
    "        self.learning_rate = 0.1\n",
    "    def activation(self, x):\n",
    "        return 1 if x > 0 else 0\n",
    "    def predict(self, x):\n",
    "        return self.activation(np.dot(self.weights, x) + self.bias)\n",
    "    def train(self, x, y):\n",
    "        y_pred = self.predict(x)\n",
    "        error = y - y_pred\n",
    "        self.weights += self.learning_rate * error * x\n",
    "        self.bias += self.learning_rate * error\n",
    "        return error\n",
    "    def __str__(self):\n",
    "        return f'weights: {self.weights}, bias: {self.bias}'"
   ]
  },
  {
   "cell_type": "code",
   "execution_count": 4,
   "metadata": {},
   "outputs": [
    {
     "name": "stdout",
     "output_type": "stream",
     "text": [
      "weights: [0.36725295 0.79055236], bias: 0.09761027843257808\n"
     ]
    }
   ],
   "source": [
    "slp = SingleLayerPerceptron(2)\n",
    "print(slp)"
   ]
  },
  {
   "cell_type": "code",
   "execution_count": 12,
   "metadata": {},
   "outputs": [
    {
     "name": "stdout",
     "output_type": "stream",
     "text": [
      "weights: [0.26725295 0.29055236], bias: -0.30238972156742194\n",
      "[1, 1, 0]\n"
     ]
    }
   ],
   "source": [
    "input = np.array([[0, 0], [0, 1], [1, 0], [1, 1]])\n",
    "\n",
    "target = np.array([0, 1, 1, 0])\n",
    "\n",
    "\n",
    "errors = []\n",
    "for epoch in range(100):\n",
    "    err = 0\n",
    "    for x, y in zip(input, target):\n",
    "        err += slp.train(x, y)\n",
    "    errors.append(err)\n",
    "    if err == 0:\n",
    "        break\n",
    "\n",
    "print(slp)\n",
    "print(errors)\n"
   ]
  },
  {
   "cell_type": "code",
   "execution_count": 13,
   "metadata": {},
   "outputs": [
    {
     "data": {
      "image/png": "[encoded data removed]",
      "text/plain": [
       "<Figure size 640x480 with 1 Axes>"
      ]
     },
     "metadata": {},
     "output_type": "display_data"
    }
   ],
   "source": [
    "plt.plot(errors)\n",
    "plt.xlabel('Epochs')\n",
    "plt.ylabel('Error')\n",
    "plt.title('Error vs. Epochs')\n",
    "plt.show()\n"
   ]
  },
  {
   "cell_type": "markdown",
   "metadata": {},
   "source": [
    "# Multi Layer Perceptron"
   ]
  },
  {
   "cell_type": "code",
   "execution_count": 41,
   "metadata": {},
   "outputs": [],
   "source": [
    "Here's the corrected code for your MultiLayerPerceptron class:\n",
    "\n",
    "```python\n",
    "import numpy as np\n",
    "\n",
    "class MultiLayerPerceptron:\n",
    "    def __init__(self, input_size, hidden_size, output_size):\n",
    "        self.input_size = input_size\n",
    "        self.hidden_size = hidden_size\n",
    "        self.output_size = output_size\n",
    "\n",
    "        self.weights_input_hidden = np.random.rand(input_size, hidden_size)\n",
    "        self.bias_hidden = np.random.rand(hidden_size)\n",
    "        self.weights_hidden_output = np.random.rand(hidden_size, output_size)\n",
    "        self.bias_output = np.random.rand(output_size)\n",
    "\n",
    "    def sigmoid(self, x):\n",
    "        return 1 / (1 + np.exp(-x))\n",
    "\n",
    "    def sigmoid_derivative(self, x):\n",
    "        return x * (1 - x)\n",
    "\n",
    "    def forward(self, inputs):\n",
    "        hidden_inputs = np.dot(inputs, self.weights_input_hidden) + self.bias_hidden\n",
    "        hidden_outputs = self.sigmoid(hidden_inputs)\n",
    "        output_inputs = np.dot(hidden_outputs, self.weights_hidden_output) + self.bias_output\n",
    "        output = self.sigmoid(output_inputs)\n",
    "        return hidden_outputs, output\n",
    "        \n",
    "    def backward(self, inputs, hidden_outputs, output, target, learning_rate):\n",
    "        output_error = target - output\n",
    "        output_delta = output_error * self.sigmoid_derivative(output)\n",
    "\n",
    "        hidden_error = np.dot(output_delta, self.weights_hidden_output.T)\n",
    "        hidden_delta = hidden_error * self.sigmoid_derivative(hidden_outputs)\n",
    "\n",
    "        self.weights_hidden_output += np.dot(hidden_outputs.T, output_delta) * learning_rate\n",
    "        self.bias_output += np.sum(output_delta) * learning_rate\n",
    "        self.weights_input_hidden += np.dot(inputs.reshape(-1,1), hidden_delta.reshape(1,-1)) * learning_rate\n",
    "        self.bias_hidden += np.sum(hidden_delta) * learning_rate\n",
    "\n",
    "\n",
    "    def train(self, inputs, targets, learning_rate=0.1, epochs=100):\n",
    "        for epoch in range(epochs):\n",
    "            for i in range(len(inputs)):\n",
    "                hidden_outputs, output = self.forward(inputs[i])\n",
    "                self.backward(inputs[i], hidden_outputs, output, targets[i], learning_rate)\n"
   ]
  },
  {
   "cell_type": "code",
   "execution_count": 52,
   "metadata": {},
   "outputs": [
    {
     "name": "stdout",
     "output_type": "stream",
     "text": [
      "Input: [0 0], Target: [0], Prediction: [0.7695979]\n",
      "Input: [0 1], Target: [1], Prediction: [0.79539793]\n",
      "Input: [1 0], Target: [1], Prediction: [0.80124795]\n",
      "Input: [1 1], Target: [0], Prediction: [0.82009198]\n"
     ]
    }
   ],
   "source": [
    "\n",
    "inputs = np.array([[0, 0], [0, 1], [1, 0], [1, 1]])\n",
    "targets = np.array([[0], [1], [1], [0]])\n",
    "for i in range(len(inputs)):\n",
    "    _, output = mlp.forward(inputs[i])\n",
    "    print(f\"Input: {inputs[i]}, Target: {targets[i]}, Prediction: {output}\")"
   ]
  },
  {
   "cell_type": "code",
   "execution_count": null,
   "metadata": {},
   "outputs": [],
   "source": []
  }
 ],
 "metadata": {
  "kernelspec": {
   "display_name": "torchvenv",
   "language": "python",
   "name": "python3"
  },
  "language_info": {
   "codemirror_mode": {
    "name": "ipython",
    "version": 3
   },
   "file_extension": ".py",
   "mimetype": "text/x-python",
   "name": "python",
   "nbconvert_exporter": "python",
   "pygments_lexer": "ipython3",
   "version": "3.11.9"
  }
 },
 "nbformat": 4,
 "nbformat_minor": 2
}
