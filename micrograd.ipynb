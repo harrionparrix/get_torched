{
 "cells": [
  {
   "cell_type": "code",
   "execution_count": 5,
   "metadata": {},
   "outputs": [],
   "source": [
    "import numpy as np\n",
    "import matplotlib.pyplot as plt"
   ]
  },
  {
   "cell_type": "code",
   "execution_count": 2,
   "metadata": {},
   "outputs": [],
   "source": [
    "class Value():\n",
    "    def __init__(self, data, children=()):\n",
    "        self.data = data\n",
    "        self.grad=0\n",
    "        self.children=set(children)\n",
    "    def __repr__(self):\n",
    "        return \"Value({})\".format(self.data)\n",
    "    def __add__(self, other):\n",
    "        return Value(self.data + other.data, self.children.union(other.children))\n",
    "    def __mul__(self, other):\n",
    "        return Value(self.data * other.data, self.children.union(other.children))\n",
    "    def __pow__(self, other):\n",
    "        return Value(self.data**other, (self,))\n"
   ]
  },
  {
   "cell_type": "code",
   "execution_count": 10,
   "metadata": {},
   "outputs": [
    {
     "data": {
      "text/plain": [
       "Value(19)"
      ]
     },
     "execution_count": 10,
     "metadata": {},
     "output_type": "execute_result"
    }
   ],
   "source": [
    "a=Value(3)\n",
    "b=Value(5)\n",
    "c=Value(2)\n",
    "d=a*b + c**2\n",
    "d"
   ]
  }
 ],
 "metadata": {
  "kernelspec": {
   "display_name": "Python 3",
   "language": "python",
   "name": "python3"
  },
  "language_info": {
   "codemirror_mode": {
    "name": "ipython",
    "version": 3
   },
   "file_extension": ".py",
   "mimetype": "text/x-python",
   "name": "python",
   "nbconvert_exporter": "python",
   "pygments_lexer": "ipython3",
   "version": "3.11.4"
  }
 },
 "nbformat": 4,
 "nbformat_minor": 2
}
